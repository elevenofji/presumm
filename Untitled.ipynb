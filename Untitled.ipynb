{
 "cells": [
  {
   "cell_type": "code",
   "execution_count": 51,
   "metadata": {},
   "outputs": [],
   "source": [
    "import torch\n",
    "import torch.nn as nn\n",
    "import pytorch_transformers\n",
    "from pytorch_transformers import BertModel, BertConfig"
   ]
  },
  {
   "cell_type": "code",
   "execution_count": 28,
   "metadata": {},
   "outputs": [],
   "source": [
    "a = torch.randn(3,4,5)\n",
    "a."
   ]
  },
  {
   "cell_type": "code",
   "execution_count": 34,
   "metadata": {},
   "outputs": [
    {
     "data": {
      "text/plain": [
       "torch.Size([3, 4, 5])"
      ]
     },
     "execution_count": 34,
     "metadata": {},
     "output_type": "execute_result"
    }
   ],
   "source": [
    "a.shape"
   ]
  },
  {
   "cell_type": "code",
   "execution_count": 30,
   "metadata": {},
   "outputs": [],
   "source": [
    "sss = nn.Linear(5,5)"
   ]
  },
  {
   "cell_type": "code",
   "execution_count": 38,
   "metadata": {},
   "outputs": [],
   "source": [
    "aa = a[0]"
   ]
  },
  {
   "cell_type": "code",
   "execution_count": 39,
   "metadata": {},
   "outputs": [
    {
     "data": {
      "text/plain": [
       "torch.Size([4, 5])"
      ]
     },
     "execution_count": 39,
     "metadata": {},
     "output_type": "execute_result"
    }
   ],
   "source": [
    "aa.shape"
   ]
  },
  {
   "cell_type": "code",
   "execution_count": 11,
   "metadata": {},
   "outputs": [
    {
     "data": {
      "text/plain": [
       "tensor([[[ 2.2263],\n",
       "         [ 1.1464],\n",
       "         [-0.7054]]])"
      ]
     },
     "execution_count": 11,
     "metadata": {},
     "output_type": "execute_result"
    }
   ],
   "source": [
    "1 -a "
   ]
  },
  {
   "cell_type": "code",
   "execution_count": 13,
   "metadata": {},
   "outputs": [],
   "source": [
    "position_ids = torch.arange(19, dtype=torch.long, device=\"cpu\")"
   ]
  },
  {
   "cell_type": "code",
   "execution_count": 14,
   "metadata": {},
   "outputs": [
    {
     "data": {
      "text/plain": [
       "tensor([ 0,  1,  2,  3,  4,  5,  6,  7,  8,  9, 10, 11, 12, 13, 14, 15, 16, 17,\n",
       "        18])"
      ]
     },
     "execution_count": 14,
     "metadata": {},
     "output_type": "execute_result"
    }
   ],
   "source": [
    "position_ids"
   ]
  },
  {
   "cell_type": "code",
   "execution_count": 18,
   "metadata": {},
   "outputs": [],
   "source": [
    "position_embeddings = nn.Embedding(50, 70)"
   ]
  },
  {
   "cell_type": "code",
   "execution_count": 19,
   "metadata": {},
   "outputs": [
    {
     "data": {
      "text/plain": [
       "Embedding(50, 70)"
      ]
     },
     "execution_count": 19,
     "metadata": {},
     "output_type": "execute_result"
    }
   ],
   "source": [
    "position_embeddings"
   ]
  },
  {
   "cell_type": "code",
   "execution_count": 26,
   "metadata": {},
   "outputs": [],
   "source": [
    "pp = position_embeddings(position_ids)"
   ]
  },
  {
   "cell_type": "code",
   "execution_count": 22,
   "metadata": {},
   "outputs": [
    {
     "data": {
      "text/plain": [
       "torch.Size([19, 70])"
      ]
     },
     "execution_count": 22,
     "metadata": {},
     "output_type": "execute_result"
    }
   ],
   "source": [
    "pp.shape"
   ]
  },
  {
   "cell_type": "code",
   "execution_count": 27,
   "metadata": {},
   "outputs": [
    {
     "data": {
      "text/plain": [
       "tensor([[-1.1941e+00, -2.1604e+00, -3.0926e-01,  ...,  5.9824e-01,\n",
       "          2.2000e+00, -6.6287e-01],\n",
       "        [-2.3234e+00,  1.2748e+00, -7.1197e-01,  ...,  3.5336e-01,\n",
       "          1.4912e+00, -8.4217e-01],\n",
       "        [-5.8083e-01,  8.0677e-01, -2.4338e-02,  ..., -3.5597e-01,\n",
       "         -1.5135e+00,  1.0323e-01],\n",
       "        ...,\n",
       "        [ 1.1776e+00, -2.1414e+00, -1.0648e+00,  ...,  1.8760e+00,\n",
       "         -1.2529e+00, -3.3424e-01],\n",
       "        [-8.3612e-01, -3.8070e-01,  5.5132e-02,  ...,  7.3219e-04,\n",
       "          2.1519e+00, -8.0745e-01],\n",
       "        [ 7.7050e-02, -8.4180e-01, -7.5093e-01,  ...,  5.0807e-01,\n",
       "         -8.3596e-01, -6.7099e-01]], grad_fn=<EmbeddingBackward>)"
      ]
     },
     "execution_count": 27,
     "metadata": {},
     "output_type": "execute_result"
    }
   ],
   "source": [
    "pp"
   ]
  },
  {
   "cell_type": "code",
   "execution_count": 40,
   "metadata": {},
   "outputs": [],
   "source": [
    "aa = [None] * 3"
   ]
  },
  {
   "cell_type": "code",
   "execution_count": 41,
   "metadata": {},
   "outputs": [
    {
     "data": {
      "text/plain": [
       "[None, None, None]"
      ]
     },
     "execution_count": 41,
     "metadata": {},
     "output_type": "execute_result"
    }
   ],
   "source": [
    "aa"
   ]
  },
  {
   "cell_type": "code",
   "execution_count": 46,
   "metadata": {},
   "outputs": [],
   "source": [
    "pa = 'bert_models/bert-base-uncased/'\n"
   ]
  },
  {
   "cell_type": "code",
   "execution_count": 48,
   "metadata": {},
   "outputs": [],
   "source": [
    "model = BertModel.from_pretrained(pa)"
   ]
  },
  {
   "cell_type": "code",
   "execution_count": 49,
   "metadata": {},
   "outputs": [],
   "source": [
    "aaa = model.config"
   ]
  },
  {
   "cell_type": "code",
   "execution_count": 50,
   "metadata": {},
   "outputs": [
    {
     "data": {
      "text/plain": [
       "{\n",
       "  \"architectures\": [\n",
       "    \"BertForMaskedLM\"\n",
       "  ],\n",
       "  \"attention_probs_dropout_prob\": 0.1,\n",
       "  \"finetuning_task\": null,\n",
       "  \"hidden_act\": \"gelu\",\n",
       "  \"hidden_dropout_prob\": 0.1,\n",
       "  \"hidden_size\": 768,\n",
       "  \"initializer_range\": 0.02,\n",
       "  \"intermediate_size\": 3072,\n",
       "  \"layer_norm_eps\": 1e-12,\n",
       "  \"max_position_embeddings\": 512,\n",
       "  \"model_type\": \"bert\",\n",
       "  \"num_attention_heads\": 12,\n",
       "  \"num_hidden_layers\": 12,\n",
       "  \"num_labels\": 2,\n",
       "  \"output_attentions\": false,\n",
       "  \"output_hidden_states\": false,\n",
       "  \"pad_token_id\": 0,\n",
       "  \"pruned_heads\": {},\n",
       "  \"torchscript\": false,\n",
       "  \"type_vocab_size\": 2,\n",
       "  \"vocab_size\": 30522\n",
       "}"
      ]
     },
     "execution_count": 50,
     "metadata": {},
     "output_type": "execute_result"
    }
   ],
   "source": [
    "aaa"
   ]
  },
  {
   "cell_type": "code",
   "execution_count": 52,
   "metadata": {},
   "outputs": [],
   "source": [
    "a = torch.randn(3,4,5)\n"
   ]
  },
  {
   "cell_type": "code",
   "execution_count": 53,
   "metadata": {},
   "outputs": [],
   "source": [
    "b = (a,)"
   ]
  },
  {
   "cell_type": "code",
   "execution_count": 56,
   "metadata": {},
   "outputs": [],
   "source": [
    "c = () + b"
   ]
  },
  {
   "cell_type": "code",
   "execution_count": 58,
   "metadata": {},
   "outputs": [],
   "source": [
    "d = c + b"
   ]
  },
  {
   "cell_type": "code",
   "execution_count": 59,
   "metadata": {},
   "outputs": [
    {
     "data": {
      "text/plain": [
       "(tensor([[[-1.9259, -1.7107, -0.4222, -0.8334, -0.0554],\n",
       "          [ 0.6910,  0.1413,  0.0716, -0.5474, -0.3322],\n",
       "          [ 1.1545, -0.2620,  0.0595, -1.1682, -1.9013],\n",
       "          [-1.8647, -1.6033,  0.2082, -0.3952,  0.9322]],\n",
       " \n",
       "         [[-0.6818, -0.9550,  1.3827, -1.0358, -0.0032],\n",
       "          [ 1.0295,  1.1940, -0.9912, -0.1952, -1.2328],\n",
       "          [-0.4413, -0.0597,  2.2948,  0.3217, -0.6863],\n",
       "          [-0.6790, -0.2725,  0.6628, -2.3029, -0.3501]],\n",
       " \n",
       "         [[ 0.1580,  1.3852, -1.6215, -0.6438,  0.0644],\n",
       "          [ 1.1270, -1.4906,  1.0891,  0.0198, -0.2034],\n",
       "          [-1.2590,  0.2271, -0.8804,  1.1783, -0.4188],\n",
       "          [ 0.4527, -1.9975, -0.1895,  0.6684,  0.7163]]]),\n",
       " tensor([[[-1.9259, -1.7107, -0.4222, -0.8334, -0.0554],\n",
       "          [ 0.6910,  0.1413,  0.0716, -0.5474, -0.3322],\n",
       "          [ 1.1545, -0.2620,  0.0595, -1.1682, -1.9013],\n",
       "          [-1.8647, -1.6033,  0.2082, -0.3952,  0.9322]],\n",
       " \n",
       "         [[-0.6818, -0.9550,  1.3827, -1.0358, -0.0032],\n",
       "          [ 1.0295,  1.1940, -0.9912, -0.1952, -1.2328],\n",
       "          [-0.4413, -0.0597,  2.2948,  0.3217, -0.6863],\n",
       "          [-0.6790, -0.2725,  0.6628, -2.3029, -0.3501]],\n",
       " \n",
       "         [[ 0.1580,  1.3852, -1.6215, -0.6438,  0.0644],\n",
       "          [ 1.1270, -1.4906,  1.0891,  0.0198, -0.2034],\n",
       "          [-1.2590,  0.2271, -0.8804,  1.1783, -0.4188],\n",
       "          [ 0.4527, -1.9975, -0.1895,  0.6684,  0.7163]]]))"
      ]
     },
     "execution_count": 59,
     "metadata": {},
     "output_type": "execute_result"
    }
   ],
   "source": [
    "d"
   ]
  },
  {
   "cell_type": "code",
   "execution_count": 61,
   "metadata": {},
   "outputs": [],
   "source": [
    "e = d + b"
   ]
  },
  {
   "cell_type": "code",
   "execution_count": 62,
   "metadata": {},
   "outputs": [
    {
     "data": {
      "text/plain": [
       "(tensor([[[-1.9259, -1.7107, -0.4222, -0.8334, -0.0554],\n",
       "          [ 0.6910,  0.1413,  0.0716, -0.5474, -0.3322],\n",
       "          [ 1.1545, -0.2620,  0.0595, -1.1682, -1.9013],\n",
       "          [-1.8647, -1.6033,  0.2082, -0.3952,  0.9322]],\n",
       " \n",
       "         [[-0.6818, -0.9550,  1.3827, -1.0358, -0.0032],\n",
       "          [ 1.0295,  1.1940, -0.9912, -0.1952, -1.2328],\n",
       "          [-0.4413, -0.0597,  2.2948,  0.3217, -0.6863],\n",
       "          [-0.6790, -0.2725,  0.6628, -2.3029, -0.3501]],\n",
       " \n",
       "         [[ 0.1580,  1.3852, -1.6215, -0.6438,  0.0644],\n",
       "          [ 1.1270, -1.4906,  1.0891,  0.0198, -0.2034],\n",
       "          [-1.2590,  0.2271, -0.8804,  1.1783, -0.4188],\n",
       "          [ 0.4527, -1.9975, -0.1895,  0.6684,  0.7163]]]),\n",
       " tensor([[[-1.9259, -1.7107, -0.4222, -0.8334, -0.0554],\n",
       "          [ 0.6910,  0.1413,  0.0716, -0.5474, -0.3322],\n",
       "          [ 1.1545, -0.2620,  0.0595, -1.1682, -1.9013],\n",
       "          [-1.8647, -1.6033,  0.2082, -0.3952,  0.9322]],\n",
       " \n",
       "         [[-0.6818, -0.9550,  1.3827, -1.0358, -0.0032],\n",
       "          [ 1.0295,  1.1940, -0.9912, -0.1952, -1.2328],\n",
       "          [-0.4413, -0.0597,  2.2948,  0.3217, -0.6863],\n",
       "          [-0.6790, -0.2725,  0.6628, -2.3029, -0.3501]],\n",
       " \n",
       "         [[ 0.1580,  1.3852, -1.6215, -0.6438,  0.0644],\n",
       "          [ 1.1270, -1.4906,  1.0891,  0.0198, -0.2034],\n",
       "          [-1.2590,  0.2271, -0.8804,  1.1783, -0.4188],\n",
       "          [ 0.4527, -1.9975, -0.1895,  0.6684,  0.7163]]]),\n",
       " tensor([[[-1.9259, -1.7107, -0.4222, -0.8334, -0.0554],\n",
       "          [ 0.6910,  0.1413,  0.0716, -0.5474, -0.3322],\n",
       "          [ 1.1545, -0.2620,  0.0595, -1.1682, -1.9013],\n",
       "          [-1.8647, -1.6033,  0.2082, -0.3952,  0.9322]],\n",
       " \n",
       "         [[-0.6818, -0.9550,  1.3827, -1.0358, -0.0032],\n",
       "          [ 1.0295,  1.1940, -0.9912, -0.1952, -1.2328],\n",
       "          [-0.4413, -0.0597,  2.2948,  0.3217, -0.6863],\n",
       "          [-0.6790, -0.2725,  0.6628, -2.3029, -0.3501]],\n",
       " \n",
       "         [[ 0.1580,  1.3852, -1.6215, -0.6438,  0.0644],\n",
       "          [ 1.1270, -1.4906,  1.0891,  0.0198, -0.2034],\n",
       "          [-1.2590,  0.2271, -0.8804,  1.1783, -0.4188],\n",
       "          [ 0.4527, -1.9975, -0.1895,  0.6684,  0.7163]]]))"
      ]
     },
     "execution_count": 62,
     "metadata": {},
     "output_type": "execute_result"
    }
   ],
   "source": [
    "e"
   ]
  },
  {
   "cell_type": "code",
   "execution_count": 63,
   "metadata": {},
   "outputs": [],
   "source": [
    "aa = ()"
   ]
  },
  {
   "cell_type": "code",
   "execution_count": 64,
   "metadata": {},
   "outputs": [],
   "source": [
    "bb = (3,)"
   ]
  },
  {
   "cell_type": "code",
   "execution_count": 65,
   "metadata": {},
   "outputs": [],
   "source": [
    "cc = aa + bb+bb"
   ]
  },
  {
   "cell_type": "code",
   "execution_count": 66,
   "metadata": {},
   "outputs": [
    {
     "data": {
      "text/plain": [
       "(3, 3)"
      ]
     },
     "execution_count": 66,
     "metadata": {},
     "output_type": "execute_result"
    }
   ],
   "source": [
    "cc"
   ]
  },
  {
   "cell_type": "code",
   "execution_count": 68,
   "metadata": {},
   "outputs": [
    {
     "data": {
      "text/plain": [
       "[1]"
      ]
     },
     "execution_count": 68,
     "metadata": {},
     "output_type": "execute_result"
    }
   ],
   "source": [
    "a = [1,2,3]\n",
    "a[:-1][:-1]"
   ]
  },
  {
   "cell_type": "code",
   "execution_count": 69,
   "metadata": {},
   "outputs": [],
   "source": [
    "a = [0,0,0,0,1,0]"
   ]
  },
  {
   "cell_type": "code",
   "execution_count": 70,
   "metadata": {},
   "outputs": [
    {
     "data": {
      "text/plain": [
       "False"
      ]
     },
     "execution_count": 70,
     "metadata": {},
     "output_type": "execute_result"
    }
   ],
   "source": [
    "a == 0"
   ]
  },
  {
   "cell_type": "code",
   "execution_count": 71,
   "metadata": {},
   "outputs": [],
   "source": [
    "aa = torch.tensor(a)"
   ]
  },
  {
   "cell_type": "code",
   "execution_count": 72,
   "metadata": {},
   "outputs": [
    {
     "data": {
      "text/plain": [
       "tensor([0, 0, 0, 0, 1, 0])"
      ]
     },
     "execution_count": 72,
     "metadata": {},
     "output_type": "execute_result"
    }
   ],
   "source": [
    "aa"
   ]
  },
  {
   "cell_type": "code",
   "execution_count": 73,
   "metadata": {},
   "outputs": [
    {
     "data": {
      "text/plain": [
       "tensor([1, 1, 1, 1, 0, 1], dtype=torch.uint8)"
      ]
     },
     "execution_count": 73,
     "metadata": {},
     "output_type": "execute_result"
    }
   ],
   "source": [
    "(aa == 0)"
   ]
  },
  {
   "cell_type": "code",
   "execution_count": 74,
   "metadata": {},
   "outputs": [
    {
     "data": {
      "text/plain": [
       "tensor([0, 0, 0, 0, 1, 0], dtype=torch.uint8)"
      ]
     },
     "execution_count": 74,
     "metadata": {},
     "output_type": "execute_result"
    }
   ],
   "source": [
    "1 - (aa == 0)"
   ]
  },
  {
   "cell_type": "code",
   "execution_count": 75,
   "metadata": {},
   "outputs": [],
   "source": [
    "aa = torch.randn(3,4,5)"
   ]
  },
  {
   "cell_type": "code",
   "execution_count": 77,
   "metadata": {},
   "outputs": [
    {
     "data": {
      "text/plain": [
       "int"
      ]
     },
     "execution_count": 77,
     "metadata": {},
     "output_type": "execute_result"
    }
   ],
   "source": [
    "type(aa.size(0))"
   ]
  },
  {
   "cell_type": "code",
   "execution_count": 78,
   "metadata": {},
   "outputs": [],
   "source": [
    "cc = torch.arange(aa.size(0))"
   ]
  },
  {
   "cell_type": "code",
   "execution_count": 79,
   "metadata": {},
   "outputs": [
    {
     "data": {
      "text/plain": [
       "tensor([0, 1, 2])"
      ]
     },
     "execution_count": 79,
     "metadata": {},
     "output_type": "execute_result"
    }
   ],
   "source": [
    "cc"
   ]
  },
  {
   "cell_type": "code",
   "execution_count": 80,
   "metadata": {},
   "outputs": [
    {
     "data": {
      "text/plain": [
       "torch.Size([3])"
      ]
     },
     "execution_count": 80,
     "metadata": {},
     "output_type": "execute_result"
    }
   ],
   "source": [
    "cc.shape"
   ]
  },
  {
   "cell_type": "code",
   "execution_count": 81,
   "metadata": {},
   "outputs": [],
   "source": [
    "cc = cc.unsqueeze(1)"
   ]
  },
  {
   "cell_type": "code",
   "execution_count": 82,
   "metadata": {},
   "outputs": [
    {
     "data": {
      "text/plain": [
       "torch.Size([3, 1])"
      ]
     },
     "execution_count": 82,
     "metadata": {},
     "output_type": "execute_result"
    }
   ],
   "source": [
    "cc.shape"
   ]
  },
  {
   "cell_type": "code",
   "execution_count": 83,
   "metadata": {},
   "outputs": [
    {
     "data": {
      "text/plain": [
       "tensor([[0],\n",
       "        [1],\n",
       "        [2]])"
      ]
     },
     "execution_count": 83,
     "metadata": {},
     "output_type": "execute_result"
    }
   ],
   "source": [
    "cc"
   ]
  },
  {
   "cell_type": "code",
   "execution_count": 84,
   "metadata": {},
   "outputs": [],
   "source": [
    "dd = torch.randn(3,2)"
   ]
  },
  {
   "cell_type": "code",
   "execution_count": 96,
   "metadata": {},
   "outputs": [],
   "source": [
    "ee = aa[cc.long(),ddd.long()]"
   ]
  },
  {
   "cell_type": "code",
   "execution_count": 97,
   "metadata": {},
   "outputs": [
    {
     "data": {
      "text/plain": [
       "tensor([[[ 0.7085, -0.8135,  0.8480, -1.4198, -0.5063],\n",
       "         [-1.4735,  0.3922,  0.7999,  1.0566, -0.8701]],\n",
       "\n",
       "        [[ 0.2459,  0.0078, -0.0330, -0.4984,  2.1687],\n",
       "         [ 0.2071,  0.0642,  0.4191,  1.2475,  2.1253]],\n",
       "\n",
       "        [[ 0.8236, -0.0846,  1.0679, -0.5428,  0.2361],\n",
       "         [-0.5756, -0.5069,  1.6766,  1.5626, -1.5543]]])"
      ]
     },
     "execution_count": 97,
     "metadata": {},
     "output_type": "execute_result"
    }
   ],
   "source": [
    "ee"
   ]
  },
  {
   "cell_type": "code",
   "execution_count": 98,
   "metadata": {},
   "outputs": [
    {
     "data": {
      "text/plain": [
       "tensor([[[ 0.7085, -0.8135,  0.8480, -1.4198, -0.5063],\n",
       "         [ 0.6027, -0.2965,  0.4735, -1.4506, -0.0904],\n",
       "         [-1.4735,  0.3922,  0.7999,  1.0566, -0.8701],\n",
       "         [-0.6014,  0.6327, -0.4057, -0.2010,  0.1780]],\n",
       "\n",
       "        [[ 0.2071,  0.0642,  0.4191,  1.2475,  2.1253],\n",
       "         [ 0.2459,  0.0078, -0.0330, -0.4984,  2.1687],\n",
       "         [ 0.2098, -1.3597, -1.6466,  0.8938,  0.0179],\n",
       "         [-0.7762,  1.6975,  1.4794,  0.4954, -1.3041]],\n",
       "\n",
       "        [[-0.5756, -0.5069,  1.6766,  1.5626, -1.5543],\n",
       "         [ 0.8236, -0.0846,  1.0679, -0.5428,  0.2361],\n",
       "         [-0.4428, -0.1392,  1.5940,  0.7220,  1.0599],\n",
       "         [ 0.6339,  0.2033, -1.0256, -2.4092, -0.2564]]])"
      ]
     },
     "execution_count": 98,
     "metadata": {},
     "output_type": "execute_result"
    }
   ],
   "source": [
    "aa"
   ]
  },
  {
   "cell_type": "code",
   "execution_count": 89,
   "metadata": {},
   "outputs": [
    {
     "data": {
      "text/plain": [
       "tensor([[0],\n",
       "        [1],\n",
       "        [2]])"
      ]
     },
     "execution_count": 89,
     "metadata": {},
     "output_type": "execute_result"
    }
   ],
   "source": [
    "cc"
   ]
  },
  {
   "cell_type": "code",
   "execution_count": 99,
   "metadata": {},
   "outputs": [
    {
     "data": {
      "text/plain": [
       "torch.Size([3, 2, 5])"
      ]
     },
     "execution_count": 99,
     "metadata": {},
     "output_type": "execute_result"
    }
   ],
   "source": [
    "ee.shape"
   ]
  },
  {
   "cell_type": "code",
   "execution_count": 94,
   "metadata": {},
   "outputs": [],
   "source": [
    "ddd[2,0] = 1"
   ]
  },
  {
   "cell_type": "code",
   "execution_count": 95,
   "metadata": {},
   "outputs": [
    {
     "data": {
      "text/plain": [
       "tensor([[0, 2],\n",
       "        [1, 0],\n",
       "        [1, 0]], dtype=torch.int32)"
      ]
     },
     "execution_count": 95,
     "metadata": {},
     "output_type": "execute_result"
    }
   ],
   "source": [
    "ddd"
   ]
  },
  {
   "cell_type": "code",
   "execution_count": 100,
   "metadata": {},
   "outputs": [
    {
     "data": {
      "text/plain": [
       "tensor([[[ 0.7085, -0.8135,  0.8480, -1.4198, -0.5063],\n",
       "         [ 0.6027, -0.2965,  0.4735, -1.4506, -0.0904],\n",
       "         [-1.4735,  0.3922,  0.7999,  1.0566, -0.8701],\n",
       "         [-0.6014,  0.6327, -0.4057, -0.2010,  0.1780]],\n",
       "\n",
       "        [[ 0.2071,  0.0642,  0.4191,  1.2475,  2.1253],\n",
       "         [ 0.2459,  0.0078, -0.0330, -0.4984,  2.1687],\n",
       "         [ 0.2098, -1.3597, -1.6466,  0.8938,  0.0179],\n",
       "         [-0.7762,  1.6975,  1.4794,  0.4954, -1.3041]],\n",
       "\n",
       "        [[-0.5756, -0.5069,  1.6766,  1.5626, -1.5543],\n",
       "         [ 0.8236, -0.0846,  1.0679, -0.5428,  0.2361],\n",
       "         [-0.4428, -0.1392,  1.5940,  0.7220,  1.0599],\n",
       "         [ 0.6339,  0.2033, -1.0256, -2.4092, -0.2564]]])"
      ]
     },
     "execution_count": 100,
     "metadata": {},
     "output_type": "execute_result"
    }
   ],
   "source": [
    "aa[torch.arange(aa.size(0))]"
   ]
  },
  {
   "cell_type": "code",
   "execution_count": 105,
   "metadata": {},
   "outputs": [
    {
     "data": {
      "text/plain": [
       "torch.Size([3, 4, 5])"
      ]
     },
     "execution_count": 105,
     "metadata": {},
     "output_type": "execute_result"
    }
   ],
   "source": [
    "aa.shape"
   ]
  },
  {
   "cell_type": "code",
   "execution_count": 104,
   "metadata": {},
   "outputs": [
    {
     "data": {
      "text/plain": [
       "torch.Size([3, 1, 4, 5])"
      ]
     },
     "execution_count": 104,
     "metadata": {},
     "output_type": "execute_result"
    }
   ],
   "source": [
    "aa[torch.arange(aa.size(0)).unsqueeze(1)].shape"
   ]
  },
  {
   "cell_type": "code",
   "execution_count": 150,
   "metadata": {},
   "outputs": [],
   "source": [
    "w=torch.arange(36).view(4,3,3)"
   ]
  },
  {
   "cell_type": "code",
   "execution_count": 151,
   "metadata": {},
   "outputs": [
    {
     "data": {
      "text/plain": [
       "tensor([[[ 0,  1,  2],\n",
       "         [ 3,  4,  5],\n",
       "         [ 6,  7,  8]],\n",
       "\n",
       "        [[ 9, 10, 11],\n",
       "         [12, 13, 14],\n",
       "         [15, 16, 17]],\n",
       "\n",
       "        [[18, 19, 20],\n",
       "         [21, 22, 23],\n",
       "         [24, 25, 26]],\n",
       "\n",
       "        [[27, 28, 29],\n",
       "         [30, 31, 32],\n",
       "         [33, 34, 35]]])"
      ]
     },
     "execution_count": 151,
     "metadata": {},
     "output_type": "execute_result"
    }
   ],
   "source": [
    "w"
   ]
  },
  {
   "cell_type": "code",
   "execution_count": 227,
   "metadata": {},
   "outputs": [],
   "source": [
    "k = torch.LongTensor([[1,2],[3,0]]).unsqueeze(2)\n",
    "k_a = torch.LongTensor([0,1,2,3]).unsqueeze(1)"
   ]
  },
  {
   "cell_type": "code",
   "execution_count": 230,
   "metadata": {},
   "outputs": [
    {
     "data": {
      "text/plain": [
       "torch.Size([2, 2, 2])"
      ]
     },
     "execution_count": 230,
     "metadata": {},
     "output_type": "execute_result"
    }
   ],
   "source": [
    "k1 = torch.LongTensor([[[1,2],[1,1]],[[2,0],[0,0]]])\n",
    "\n",
    "k1.shape"
   ]
  },
  {
   "cell_type": "code",
   "execution_count": 231,
   "metadata": {},
   "outputs": [
    {
     "data": {
      "text/plain": [
       "tensor([[[[12, 13, 14],\n",
       "          [15, 16, 17]],\n",
       "\n",
       "         [[21, 22, 23],\n",
       "          [21, 22, 23]]],\n",
       "\n",
       "\n",
       "        [[[33, 34, 35],\n",
       "          [27, 28, 29]],\n",
       "\n",
       "         [[ 0,  1,  2],\n",
       "          [ 0,  1,  2]]]])"
      ]
     },
     "execution_count": 231,
     "metadata": {},
     "output_type": "execute_result"
    }
   ],
   "source": [
    "w[k,k1]"
   ]
  },
  {
   "cell_type": "code",
   "execution_count": 232,
   "metadata": {},
   "outputs": [
    {
     "data": {
      "text/plain": [
       "tensor([[[ 0,  1,  2],\n",
       "         [ 3,  4,  5],\n",
       "         [ 6,  7,  8]],\n",
       "\n",
       "        [[ 9, 10, 11],\n",
       "         [12, 13, 14],\n",
       "         [15, 16, 17]]])"
      ]
     },
     "execution_count": 232,
     "metadata": {},
     "output_type": "execute_result"
    }
   ],
   "source": [
    "w[torch.LongTensor([0,1])]"
   ]
  },
  {
   "cell_type": "code",
   "execution_count": 237,
   "metadata": {},
   "outputs": [],
   "source": [
    "kkk = w[:,:,:,None]"
   ]
  },
  {
   "cell_type": "code",
   "execution_count": 238,
   "metadata": {},
   "outputs": [
    {
     "data": {
      "text/plain": [
       "torch.Size([4, 3, 3, 1])"
      ]
     },
     "execution_count": 238,
     "metadata": {},
     "output_type": "execute_result"
    }
   ],
   "source": [
    "kkk.shape"
   ]
  },
  {
   "cell_type": "code",
   "execution_count": 243,
   "metadata": {},
   "outputs": [
    {
     "data": {
      "text/plain": [
       "tensor([[[ 0.,  2.,  6.],\n",
       "         [ 0.,  4., 10.]],\n",
       "\n",
       "        [[ 2.,  6., 12.],\n",
       "         [ 6., 12., 20.]]])"
      ]
     },
     "execution_count": 243,
     "metadata": {},
     "output_type": "execute_result"
    }
   ],
   "source": [
    "aa = torch.Tensor([[1,2,3],[3,4,5]]).float()\n",
    "ss = torch.Tensor([[0,1,2],[2,3,4]]).unsqueeze(1).float()\n",
    "aa * ss"
   ]
  },
  {
   "cell_type": "code",
   "execution_count": 244,
   "metadata": {},
   "outputs": [],
   "source": [
    "a = torch.randn(1,3,1)"
   ]
  },
  {
   "cell_type": "code",
   "execution_count": 252,
   "metadata": {},
   "outputs": [],
   "source": [
    "aa = a.squeeze(-1).squeeze(-1)"
   ]
  },
  {
   "cell_type": "code",
   "execution_count": 253,
   "metadata": {},
   "outputs": [
    {
     "data": {
      "text/plain": [
       "tensor([[ 0.0405, -0.6705, -0.9161]])"
      ]
     },
     "execution_count": 253,
     "metadata": {},
     "output_type": "execute_result"
    }
   ],
   "source": [
    "aa"
   ]
  },
  {
   "cell_type": "code",
   "execution_count": 254,
   "metadata": {},
   "outputs": [
    {
     "data": {
      "text/plain": [
       "torch.Size([1, 3])"
      ]
     },
     "execution_count": 254,
     "metadata": {},
     "output_type": "execute_result"
    }
   ],
   "source": [
    "xaa.shape"
   ]
  },
  {
   "cell_type": "code",
   "execution_count": null,
   "metadata": {},
   "outputs": [],
   "source": []
  }
 ],
 "metadata": {
  "kernelspec": {
   "display_name": "python36",
   "language": "python",
   "name": "python36"
  },
  "language_info": {
   "codemirror_mode": {
    "name": "ipython",
    "version": 3
   },
   "file_extension": ".py",
   "mimetype": "text/x-python",
   "name": "python",
   "nbconvert_exporter": "python",
   "pygments_lexer": "ipython3",
   "version": "3.6.10"
  }
 },
 "nbformat": 4,
 "nbformat_minor": 4
}
